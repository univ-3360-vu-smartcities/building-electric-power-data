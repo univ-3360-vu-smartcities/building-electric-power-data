{
 "cells": [
  {
   "cell_type": "code",
   "execution_count": null,
   "metadata": {
    "colab": {},
    "colab_type": "code",
    "id": "HC25E1XW_H5k"
   },
   "outputs": [],
   "source": [
    "# Install dependencies\n",
    "!pip install pandas matplotlib numpy scikit-learn"
   ]
  },
  {
   "cell_type": "code",
   "execution_count": null,
   "metadata": {
    "colab": {
     "base_uri": "https://localhost:8080/",
     "height": 344
    },
    "colab_type": "code",
    "id": "-nei4H0IBke2",
    "outputId": "255069f9-73ed-4255-ac4c-9c634355ab72"
   },
   "outputs": [],
   "source": [
    "%reload_ext autoreload\n",
    "%autoreload 2\n",
    "%matplotlib notebook\n",
    "\n",
    "import pandas as pd                      # for handling tabular data\n",
    "from sklearn import (cluster,            # for clustering algorithms\n",
    "                     decomposition,      # for reducing dimensionality of data\n",
    "                     manifold)           # for reducing dimensionality of data\n",
    "import matplotlib.pyplot as plt          # plotting library\n",
    "from mpl_toolkits.mplot3d import Axes3D  # 3D plots\n",
    "\n",
    "from utils import (animate_dataframes,   # generates animated plots\n",
    "                   aggregate_over_time)  # generates means over timestamp across days"
   ]
  },
  {
   "cell_type": "markdown",
   "metadata": {},
   "source": [
    "## Getting data\n",
    "\n",
    "Smart building systems have an array of sensors that periodically generate measurements. Each sensor is connected to a network and is addressable. The communication protocol to sensors is called [BACNet][3]. Vanderbilt has a dashboard that aggregates various BACNet points into surveys which can be plotted or viewed as tables.\n",
    "\n",
    "This dashboard is called the [BuildingLogix Data eXchange portal (BDX) and is hosted at vanderbilt][1]. However the portal is only available from the vanderbit network. You can set up a [virtual private network access to vanderbilt through VUIT][2]. This is optional, in case you need to look at the kind of data we can download.\n",
    "\n",
    "On BDX, a survey has been created which records electric meter readings for Engineering Science Building.\n",
    "\n",
    "Links:\n",
    "\n",
    "1. Data eXchange portal: https://facilities.app.vanderbilt.edu/trendview/\n",
    "2. Link to actual survey: https://facilities.app.vanderbilt.edu/trendview/?open=2721\n",
    "\n",
    "[1]: https://facilities.app.vanderbilt.edu/trendview/\n",
    "[2]: https://it.vanderbilt.edu/services/catalog/end-point_computing/network_access/remote-access/index.php\n",
    "[3]: https://en.wikipedia.org/wiki/BACnet"
   ]
  },
  {
   "cell_type": "code",
   "execution_count": null,
   "metadata": {
    "colab": {
     "base_uri": "https://localhost:8080/",
     "height": 344
    },
    "colab_type": "code",
    "id": "-nei4H0IBke2",
    "outputId": "255069f9-73ed-4255-ac4c-9c634355ab72"
   },
   "outputs": [],
   "source": [
    "# Load dataset\n",
    "filepath = './ESB_Electric.csv'\n",
    "df = pd.read_csv(filepath, index_col='time', parse_dates=True)\n",
    "# Downsampling interval for faster processing. Default interval is '5min'\n",
    "# Use offsets at which to downsample for e.g. '15min', '1H'\n",
    "# See more offsets here: https://pandas.pydata.org/pandas-docs/stable/user_guide/timeseries.html#offset-aliases\n",
    "df = df.asfreq('15min')\n",
    "\n",
    "nan_rows = df.isnull().any(1)\n",
    "len_total = len(df)\n",
    "len_nan = nan_rows.sum()\n",
    "# Remove rows with NaN values. The dataset contains some cells where values are missing.\n",
    "# You can try to impute them or ignore them altogether. Which is better?\n",
    "df.dropna(inplace=True)\n",
    "len_valid = len(df)\n",
    "# Sort by column names\n",
    "df.sort_index(axis='columns', inplace=True)\n",
    "print('{:10d} Total rows'.format(len_total))\n",
    "print('{:10d} Rows with at least one NaN value'.format(len_nan))\n",
    "print('{:10d} Rows with no NaN values'.format(len_valid))\n",
    "df.head()"
   ]
  },
  {
   "cell_type": "markdown",
   "metadata": {},
   "source": [
    "## Description of dataset\n",
    "\n",
    "The dataset is provided in a CSV file ('ESB_Electric.csv'). It contains electric meter measurements of power demand at various points in the Engineering Science Building. Readings are collected at 5 minute intervals. The dataset contains measuremtns for January through December of 2019.\n",
    "\n",
    "* `Humidity` is in percent (0-100).\n",
    "* `Temperature` is in Degrees Faranheit\n",
    "* `PowerDemand*` fields are in kW\n",
    "* `Time` is in UTC. Measurements range from `2019-01-01 06:00Z` to `2020-01-01 06:00Z` (UTC). Or, in local (CST) time: `2019-01-01 00:00-6` to `2020-01-01 00:00-6`.\n",
    "\n",
    "Each field in the dataset corresponds to a BACNet point. The addresses are:\n",
    "\n",
    "| Field         \t| Path                                                                              \t|\n",
    "|:---------------\t|:-----------------------------------------------------------------------------------\t|\n",
    "| PowerDemand   \t| /Drivers/NiagaraNetwork/VUZone5/points/ESB/Meters/ElectricMeterProfile            \t|\n",
    "| PowerDemand_* \t| /Drivers/NiagaraNetwork/VUZone5/points/ESB/SubMeters/ESB_*/ElectricMeterProfile   \t|\n",
    "| Temperature   \t| /Weather Data/Nashville_Weather                                                 \t|\n",
    "| Humidity      \t| /Weather Data/Nashville_Weather                                                 \t|\n",
    "\n",
    "You can use these BACNet addresses to enquire more about the dataset."
   ]
  },
  {
   "cell_type": "code",
   "execution_count": null,
   "metadata": {
    "colab": {
     "base_uri": "https://localhost:8080/",
     "height": 320
    },
    "colab_type": "code",
    "id": "YMTPYDfzE-ke",
    "outputId": "906951e7-92c6-4afa-9686-4d0dff8ded2d"
   },
   "outputs": [],
   "source": [
    "# Show the distribution of fields in the dataset:\n",
    "df.describe()"
   ]
  },
  {
   "cell_type": "code",
   "execution_count": null,
   "metadata": {},
   "outputs": [],
   "source": [
    "power_cols = [col for col in df.columns if col.startswith('Power')]\n",
    "weather_cols = ['Temperature', 'Humidity']"
   ]
  },
  {
   "cell_type": "code",
   "execution_count": null,
   "metadata": {},
   "outputs": [],
   "source": [
    "# Grouping the data by week and taking means over each time\n",
    "weekly_means, week_labels = aggregate_over_time(df, period='W')"
   ]
  },
  {
   "cell_type": "markdown",
   "metadata": {},
   "source": [
    "## Trend plots"
   ]
  },
  {
   "cell_type": "code",
   "execution_count": null,
   "metadata": {},
   "outputs": [],
   "source": [
    "# Environmental conditions\n",
    "ax = plt.subplot(111)\n",
    "anim = animate_dataframes(frames=weekly_means, labels=week_labels, ax=ax,\n",
    "                          lseries=('Temperature',), rseries=('Humidity',),\n",
    "                          ylabel=('Temperature /F', 'Humidity /%'),\n",
    "                          ylim=((0, 110), (0, 100)),\n",
    "                          xlabel='Time of day',\n",
    "                          anim_args={'repeat': False})"
   ]
  },
  {
   "cell_type": "code",
   "execution_count": null,
   "metadata": {},
   "outputs": [],
   "source": [
    "# Power measurements\n",
    "ax = plt.subplot(111)\n",
    "anim = animate_dataframes(frames=weekly_means, labels=week_labels, ax=ax,\n",
    "                          lseries=power_cols,\n",
    "                          xlabel='Time of day', ylabel='Power /kW',\n",
    "                          ylim=(0, 1000),\n",
    "                          anim_args={'repeat': False})"
   ]
  },
  {
   "cell_type": "markdown",
   "metadata": {},
   "source": [
    "## Relationships\n",
    "\n",
    "### Clustering\n",
    "\n",
    "For information on clustering algorithms, see [Scikit-Learn documentation][1].\n",
    "\n",
    "For information on principal component analysis (PCA) , see [Scikit-learn docomentation][2].\n",
    "\n",
    "[1]: https://scikit-learn.org/stable/modules/clustering.html\n",
    "[2]: https://scikit-learn.org/stable/modules/decomposition.html#pca"
   ]
  },
  {
   "cell_type": "code",
   "execution_count": null,
   "metadata": {},
   "outputs": [],
   "source": [
    "# Weather data\n",
    "weather = df[weather_cols]\n",
    "clusterer = cluster.DBSCAN()\n",
    "cluster_labels = clusterer.fit_predict(weather.values)\n",
    "\n",
    "plt.scatter(x=weather['Temperature'],\n",
    "            y=weather['Humidity'],\n",
    "            c=cluster_labels,\n",
    "            marker=',', s=0.1)\n",
    "plt.xlabel('Temperature /F')\n",
    "plt.ylabel('Humidity /%')"
   ]
  },
  {
   "cell_type": "code",
   "execution_count": null,
   "metadata": {},
   "outputs": [],
   "source": [
    "# Power data\n",
    "power = df[power_cols]\n",
    "# The data is high dimensional (> 2 fields) so cannot be plotted\n",
    "# on a 2D plot. So first, we project it to 2 dimensions using\n",
    "# principal component analysis.\n",
    "mapper = decomposition.PCA(n_components=3)\n",
    "lowdim = mapper.fit_transform(power.values)\n",
    "clusterer = cluster.DBSCAN()\n",
    "cluster_labels = clusterer.fit_predict(lowdim)\n",
    "\n",
    "fig = plt.figure()\n",
    "ax = fig.add_subplot(111, projection='3d')\n",
    "plot = ax.scatter(xs=lowdim[:, 0],\n",
    "            ys=lowdim[:, 1],\n",
    "            zs=lowdim[:, 2],\n",
    "            c=cluster_labels,\n",
    "            marker=',', s=0.1)\n",
    "plt.colorbar(plot)\n",
    "plt.xlabel('Component 1')\n",
    "plt.ylabel('Component 2')\n",
    "print('Explained variance for each component: ')\n",
    "for i, var in enumerate(mapper.explained_variance_ratio_):\n",
    "    print('Component {}: {:.3f}'.format(i+1, var))"
   ]
  },
  {
   "cell_type": "markdown",
   "metadata": {},
   "source": [
    "### Correlations\n",
    "\n",
    "How strongly are different fields related to each other. Correlation ranges from -1 to +1. -1 means that as one value increases, the other decreases linearly. + 1 means both increase proportionally. A value close to zero means there is no linear relationship."
   ]
  },
  {
   "cell_type": "code",
   "execution_count": null,
   "metadata": {},
   "outputs": [],
   "source": [
    "correlations = np.corrcoef(df[power_cols], rowvar=False)\n",
    "plt.matshow(correlations)\n",
    "plt.colorbar()\n",
    "plt.xticks(np.arange(len(power_cols)), power_cols, rotation=25)\n",
    "plt.yticks(np.arange(len(power_cols)), power_cols, rotation=25);"
   ]
  },
  {
   "cell_type": "markdown",
   "metadata": {},
   "source": [
    "## Questions\n",
    "\n",
    "* What are the meanings of suffixes in the PowerDemand_* fields? do they correspond to floors, specific zones etc. in the building?\n",
    "* How to handle missing cells in the data? Should those rows be ignored? Should they be interpolated?\n",
    "* What other fields are needed to analyze power consumption of the building? Explore the BDX portal and surveys for the building to get an idea for the data available."
   ]
  }
 ],
 "metadata": {
  "colab": {
   "collapsed_sections": [],
   "name": "ESB Electric Meters.ipynb",
   "provenance": []
  },
  "kernelspec": {
   "display_name": "Python 3",
   "language": "python",
   "name": "python3"
  },
  "language_info": {
   "codemirror_mode": {
    "name": "ipython",
    "version": 3
   },
   "file_extension": ".py",
   "mimetype": "text/x-python",
   "name": "python",
   "nbconvert_exporter": "python",
   "pygments_lexer": "ipython3",
   "version": "3.7.6"
  }
 },
 "nbformat": 4,
 "nbformat_minor": 1
}
